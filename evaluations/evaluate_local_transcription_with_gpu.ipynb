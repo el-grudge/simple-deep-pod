{
 "cells": [
  {
   "cell_type": "code",
   "execution_count": 1,
   "id": "c5d7be05",
   "metadata": {},
   "outputs": [],
   "source": [
    "!source ~/.bashrc"
   ]
  },
  {
   "cell_type": "code",
   "execution_count": 2,
   "id": "edffa719",
   "metadata": {},
   "outputs": [],
   "source": [
    "import io\n",
    "from dotenv import load_dotenv\n",
    "import replicate\n",
    "import os\n",
    "from pydub import AudioSegment\n",
    "import time\n",
    "import torch\n",
    "from faster_whisper import WhisperModel"
   ]
  },
  {
   "cell_type": "code",
   "execution_count": 3,
   "id": "9ae8b185",
   "metadata": {},
   "outputs": [],
   "source": [
    "device = \"cuda\" if torch.cuda.is_available() else \"cpu\"\n",
    "# compute_type = \"float16\" if torch.cuda.is_available() else \"float32\"\n",
    "compute_type = \"int8\"\n",
    "\n",
    "# load model on GPU if available, else cpu\n",
    "model = WhisperModel(\"distil-large-v3\", device=device, compute_type=compute_type)"
   ]
  },
  {
   "cell_type": "code",
   "execution_count": 4,
   "id": "6541a224",
   "metadata": {},
   "outputs": [
    {
     "data": {
      "text/plain": [
       "'cuda'"
      ]
     },
     "execution_count": 4,
     "metadata": {},
     "output_type": "execute_result"
    }
   ],
   "source": [
    "device"
   ]
  },
  {
   "cell_type": "code",
   "execution_count": 5,
   "id": "e28e97f8",
   "metadata": {},
   "outputs": [],
   "source": [
    "def measure_transcription_speed(mp3_file):\n",
    "    audio = AudioSegment.from_mp3(mp3_file)\n",
    "    audio_length = len(audio)\n",
    "    seconds = audio_length / 1000    \n",
    "    with open(mp3_file, \"rb\") as f:\n",
    "        audio_blob = io.BytesIO(f.read())  # Use BytesIO to create a file-like object\n",
    "    start_time = time.time()\n",
    "    # fast whisper large 3\n",
    "    final_transcription = \"\"\n",
    "    segments, info = model.transcribe(mp3_file, beam_size=1)\n",
    "    for segment in segments:\n",
    "      final_transcription += segment.text\n",
    "    end_time = time.time()\n",
    "    execution_time = end_time - start_time\n",
    "    print(f\"Time to transcribe an audio clip of length {seconds} s is: {execution_time} seconds. Ration of {seconds / execution_time}\")\n"
   ]
  },
  {
   "cell_type": "code",
   "execution_count": 6,
   "id": "9aaebc3f",
   "metadata": {},
   "outputs": [],
   "source": [
    "files = [\n",
    "'audio/files/episode_0_sample.mp3',\n",
    "'audio/files/episode_1_sample.mp3',\n",
    "'audio/files/episode_2_sample.mp3',\n",
    "'audio/files/episode_3_sample.mp3',\n",
    "'audio/files/episode_5_sample.mp3',\n",
    "'audio/files/episode_8_sample.mp3',\n",
    "'audio/files/episode_4_sample.mp3',\n",
    "'audio/files/episode_6_sample.mp3',\n",
    "'audio/files/episode_7_sample.mp3',\n",
    "'audio/files/episode_9_sample.mp3',\n",
    "]"
   ]
  },
  {
   "cell_type": "code",
   "execution_count": 1,
   "id": "9d1272ce",
   "metadata": {},
   "outputs": [
    {
     "name": "stdout",
     "output_type": "stream",
     "text": [
      "Time to transcribe an audio clip of length 480.0 s is: 10.311173677444458 seconds. Ration of 46.551441670504786\n",
      "Time to transcribe an audio clip of length 69.094 s is: 1.3887224197387695 seconds. Ration of 49.75364336164254\n",
      "Time to transcribe an audio clip of length 480.0 s is: 8.750830173492432 seconds. Ration of 54.851938671372174\n",
      "Time to transcribe an audio clip of length 300.0 s is: 5.608936786651611 seconds. Ration of 53.48607256796919\n",
      "Time to transcribe an audio clip of length 180.0 s is: 3.3599979877471924 seconds. Ration of 53.57146065456015\n",
      "Time to transcribe an audio clip of length 120.0 s is: 2.1051430702209473 seconds. Ration of 57.00325155924214\n",
      "Time to transcribe an audio clip of length 240.0 s is: 4.228495359420776 seconds. Ration of 56.75777779093399\n",
      "Time to transcribe an audio clip of length 360.0 s is: 6.47335958480835 seconds. Ration of 55.61254481287373\n",
      "Time to transcribe an audio clip of length 420.0 s is: 7.163331985473633 seconds. Ration of 58.6319328563452\n",
      "Time to transcribe an audio clip of length 120.0 s is: 2.11487078666687 seconds. Ration of 56.74105517771386\n"
     ]
    }
   ],
   "source": [
    "for mp3_file in files:\n",
    "    measure_transcription_speed(mp3_file)"
   ]
  },
  {
   "cell_type": "code",
   "execution_count": null,
   "id": "09ecdcdd",
   "metadata": {},
   "outputs": [],
   "source": []
  }
 ],
 "metadata": {
  "kernelspec": {
   "display_name": "saturn (Python 3)",
   "language": "python",
   "name": "python3"
  },
  "language_info": {
   "codemirror_mode": {
    "name": "ipython",
    "version": 3
   },
   "file_extension": ".py",
   "mimetype": "text/x-python",
   "name": "python",
   "nbconvert_exporter": "python",
   "pygments_lexer": "ipython3",
   "version": "3.9.16"
  }
 },
 "nbformat": 4,
 "nbformat_minor": 5
}

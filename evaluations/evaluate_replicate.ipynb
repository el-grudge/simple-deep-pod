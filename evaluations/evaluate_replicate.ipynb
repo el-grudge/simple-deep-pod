{
 "cells": [
  {
   "cell_type": "code",
   "execution_count": 1,
   "id": "59a55fbd-33a0-4819-8b33-d259bc1afee3",
   "metadata": {},
   "outputs": [],
   "source": [
    "import io\n",
    "from dotenv import load_dotenv\n",
    "import replicate\n",
    "import os\n",
    "from pydub import AudioSegment\n",
    "import time"
   ]
  },
  {
   "cell_type": "code",
   "execution_count": 2,
   "id": "149b56e1-106e-435b-a471-3905226d95a1",
   "metadata": {},
   "outputs": [],
   "source": [
    "load_dotenv()\n",
    "\n",
    "REPLICATE_API_KEY = os.getenv(\"REPLICATE_API_KEY\")\n",
    "\n",
    "client = replicate.Client(api_token=REPLICATE_API_KEY)"
   ]
  },
  {
   "cell_type": "code",
   "execution_count": 45,
   "id": "3e2f033a-0782-4f31-a45f-f6d947687d7b",
   "metadata": {},
   "outputs": [],
   "source": [
    "files = [\n",
    "# 'audio/files/episode_0_sample.mp3',\n",
    "# 'audio/files/episode_1_sample.mp3',\n",
    "# 'audio/files/episode_2_sample.mp3',\n",
    "# 'audio/files/episode_3_sample.mp3',\n",
    "# 'audio/files/episode_5_sample.mp3',\n",
    "# 'audio/files/episode_8_sample.mp3',\n",
    "'audio/files/episode_4_sample.mp3',\n",
    "'audio/files/episode_6_sample.mp3',\n",
    "'audio/files/episode_7_sample.mp3',\n",
    "'audio/files/episode_9_sample.mp3',\n",
    "]\n",
    "\n"
   ]
  },
  {
   "cell_type": "code",
   "execution_count": 44,
   "id": "471a3b40-808c-443c-97be-e6b6935cd682",
   "metadata": {},
   "outputs": [
    {
     "data": {
      "text/plain": [
       "'audio/files/episode_4_sample.mp3'"
      ]
     },
     "execution_count": 44,
     "metadata": {},
     "output_type": "execute_result"
    }
   ],
   "source": [
    "mp3_file"
   ]
  },
  {
   "cell_type": "code",
   "execution_count": 47,
   "id": "9fa26282-2496-4417-bba2-d8e2704559e4",
   "metadata": {},
   "outputs": [
    {
     "name": "stdout",
     "output_type": "stream",
     "text": [
      "Time to transcribe an audio clip of length 480.0 s is: 31.491376399993896 seconds. Ration of 15.242268038817542\n",
      "Time to transcribe an audio clip of length 69.094 s is: 24.816115379333496 seconds. Ration of 2.78423915040065\n",
      "Time to transcribe an audio clip of length 480.0 s is: 30.95569348335266 seconds. Ration of 15.506032848468866\n",
      "Time to transcribe an audio clip of length 300.0 s is: 16.377280950546265 seconds. Ration of 18.318059078664916\n",
      "Time to transcribe an audio clip of length 180.0 s is: 9.05830979347229 seconds. Ration of 19.8712567911636\n",
      "Time to transcribe an audio clip of length 120.0 s is: 7.852516412734985 seconds. Ration of 15.281725461329499\n",
      "Time to transcribe an audio clip of length 240.0 s is: 12.795530796051025 seconds. Ration of 18.756548972088687\n",
      "Time to transcribe an audio clip of length 360.0 s is: 16.256818056106567 seconds. Ration of 22.14455490352079\n",
      "Time to transcribe an audio clip of length 420.0 s is: 114.66433596611023 seconds. Ration of 3.662865148620698\n",
      "Time to transcribe an audio clip of length 120.0 s is: 7.516759872436523 seconds. Ration of 15.964325325867108\n"
     ]
    }
   ],
   "source": [
    "for mp3_file in files:\n",
    "    \n",
    "    audio = AudioSegment.from_mp3(mp3_file)\n",
    "    audio_length = len(audio)\n",
    "    seconds = audio_length / 1000\n",
    "    \n",
    "    with open(mp3_file, \"rb\") as f:\n",
    "        audio_blob = io.BytesIO(f.read())  # Use BytesIO to create a file-like object\n",
    "    \n",
    "    start_time = time.time()\n",
    "    # create sepaarte function\n",
    "    output = client.run(\n",
    "        \"vaibhavs10/incredibly-fast-whisper:3ab86df6c8f54c11309d4d1f930ac292bad43ace52d10c80d87eb258b3c9f79c\",\n",
    "        input={\n",
    "            \"task\": \"transcribe\",\n",
    "            \"audio\": audio_blob,\n",
    "            \"language\": \"None\",\n",
    "            \"timestamp\": \"chunk\",\n",
    "            \"batch_size\": 64,\n",
    "            \"diarise_audio\": False\n",
    "        }\n",
    "    )\n",
    "    end_time = time.time()\n",
    "    execution_time = end_time - start_time\n",
    "    print(f\"Time to transcribe an audio clip of length {seconds} s is: {execution_time} seconds. Ration of {seconds / execution_time}\")\n"
   ]
  }
 ],
 "metadata": {
  "kernelspec": {
   "display_name": "Python 3 (ipykernel)",
   "language": "python",
   "name": "python3"
  },
  "language_info": {
   "codemirror_mode": {
    "name": "ipython",
    "version": 3
   },
   "file_extension": ".py",
   "mimetype": "text/x-python",
   "name": "python",
   "nbconvert_exporter": "python",
   "pygments_lexer": "ipython3",
   "version": "3.10.12"
  }
 },
 "nbformat": 4,
 "nbformat_minor": 5
}

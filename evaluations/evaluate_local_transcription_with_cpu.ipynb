{
 "cells": [
  {
   "cell_type": "code",
   "execution_count": 3,
   "id": "59a55fbd-33a0-4819-8b33-d259bc1afee3",
   "metadata": {},
   "outputs": [],
   "source": [
    "import io\n",
    "from dotenv import load_dotenv\n",
    "import replicate\n",
    "import os\n",
    "from pydub import AudioSegment\n",
    "import time\n",
    "import torch\n",
    "from faster_whisper import WhisperModel"
   ]
  },
  {
   "cell_type": "code",
   "execution_count": 4,
   "id": "a3026a32-d692-410c-bb52-4e8f5a7904a7",
   "metadata": {},
   "outputs": [],
   "source": [
    "device = \"cuda\" if torch.cuda.is_available() else \"cpu\"\n",
    "# compute_type = \"float16\" if torch.cuda.is_available() else \"float32\"\n",
    "compute_type = \"int8\"\n",
    "\n",
    "# load model on GPU if available, else cpu\n",
    "model = WhisperModel(\"distil-large-v3\", device=device, compute_type=compute_type)"
   ]
  },
  {
   "cell_type": "code",
   "execution_count": 5,
   "id": "3e2f033a-0782-4f31-a45f-f6d947687d7b",
   "metadata": {},
   "outputs": [],
   "source": [
    "files = [\n",
    "'audio/files/episode_0_sample.mp3',\n",
    "'audio/files/episode_1_sample.mp3',\n",
    "'audio/files/episode_2_sample.mp3',\n",
    "'audio/files/episode_3_sample.mp3',\n",
    "'audio/files/episode_5_sample.mp3',\n",
    "'audio/files/episode_8_sample.mp3',\n",
    "'audio/files/episode_4_sample.mp3',\n",
    "'audio/files/episode_6_sample.mp3',\n",
    "'audio/files/episode_7_sample.mp3',\n",
    "'audio/files/episode_9_sample.mp3',\n",
    "]\n",
    "\n"
   ]
  },
  {
   "cell_type": "code",
   "execution_count": 7,
   "id": "7e6ba836-7d63-4759-8de2-cc82334cb3ef",
   "metadata": {},
   "outputs": [
    {
     "name": "stdout",
     "output_type": "stream",
     "text": [
      "Time to transcribe an audio clip of length 480.0 s is: 230.79495215415955 seconds. Ration of 2.0797681904211833\n",
      "Time to transcribe an audio clip of length 69.094 s is: 38.38592600822449 seconds. Ration of 1.7999826286643719\n",
      "Time to transcribe an audio clip of length 480.0 s is: 259.86561822891235 seconds. Ration of 1.8471085296754188\n",
      "Time to transcribe an audio clip of length 300.0 s is: 186.14458298683167 seconds. Ration of 1.6116504449727809\n",
      "Time to transcribe an audio clip of length 180.0 s is: 103.46362376213074 seconds. Ration of 1.739741886615446\n",
      "Time to transcribe an audio clip of length 120.0 s is: 71.15221548080444 seconds. Ration of 1.6865251375394459\n",
      "Time to transcribe an audio clip of length 240.0 s is: 117.26437067985535 seconds. Ration of 2.0466574681514\n",
      "Time to transcribe an audio clip of length 360.0 s is: 182.50044226646423 seconds. Ration of 1.9725979593757543\n",
      "Time to transcribe an audio clip of length 420.0 s is: 210.15456867218018 seconds. Ration of 1.9985290001244629\n",
      "Time to transcribe an audio clip of length 120.0 s is: 59.76310920715332 seconds. Ration of 2.0079276595876414\n"
     ]
    }
   ],
   "source": [
    "for mp3_file in files:\n",
    "    \n",
    "    audio = AudioSegment.from_mp3(mp3_file)\n",
    "    audio_length = len(audio)\n",
    "    seconds = audio_length / 1000\n",
    "    \n",
    "    with open(mp3_file, \"rb\") as f:\n",
    "        audio_blob = io.BytesIO(f.read())  # Use BytesIO to create a file-like object\n",
    "    \n",
    "    start_time = time.time()\n",
    "    \n",
    "    # fast whisper large 3\n",
    "    final_transcription = \"\"\n",
    "    segments, info = model.transcribe(mp3_file, beam_size=1)\n",
    "    \n",
    "    for segment in segments:\n",
    "      final_transcription += segment.text\n",
    "\n",
    "    end_time = time.time()\n",
    "    execution_time = end_time - start_time\n",
    "    print(f\"Time to transcribe an audio clip of length {seconds} s is: {execution_time} seconds. Ration of {seconds / execution_time}\")\n"
   ]
  },
  {
   "cell_type": "code",
   "execution_count": null,
   "id": "62616e97-c413-4fdc-a869-357fd53a985b",
   "metadata": {},
   "outputs": [],
   "source": []
  },
  {
   "cell_type": "code",
   "execution_count": null,
   "id": "9fa26282-2496-4417-bba2-d8e2704559e4",
   "metadata": {},
   "outputs": [],
   "source": []
  }
 ],
 "metadata": {
  "kernelspec": {
   "display_name": "Python 3 (ipykernel)",
   "language": "python",
   "name": "python3"
  },
  "language_info": {
   "codemirror_mode": {
    "name": "ipython",
    "version": 3
   },
   "file_extension": ".py",
   "mimetype": "text/x-python",
   "name": "python",
   "nbconvert_exporter": "python",
   "pygments_lexer": "ipython3",
   "version": "3.10.12"
  }
 },
 "nbformat": 4,
 "nbformat_minor": 5
}

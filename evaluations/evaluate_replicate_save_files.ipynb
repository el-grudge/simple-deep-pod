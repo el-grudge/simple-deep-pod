{
 "cells": [
  {
   "cell_type": "code",
   "execution_count": 6,
   "id": "59a55fbd-33a0-4819-8b33-d259bc1afee3",
   "metadata": {},
   "outputs": [],
   "source": [
    "import io\n",
    "from dotenv import load_dotenv\n",
    "import replicate\n",
    "import os\n",
    "from pydub import AudioSegment\n",
    "import time\n",
    "import json"
   ]
  },
  {
   "cell_type": "code",
   "execution_count": 7,
   "id": "149b56e1-106e-435b-a471-3905226d95a1",
   "metadata": {},
   "outputs": [],
   "source": [
    "load_dotenv()\n",
    "\n",
    "REPLICATE_API_KEY = os.getenv(\"REPLICATE_API_KEY\")\n",
    "\n",
    "client = replicate.Client(api_token=REPLICATE_API_KEY)"
   ]
  },
  {
   "cell_type": "code",
   "execution_count": 16,
   "id": "2ed1b2c2-fb7b-45a3-9dc8-6a320ada2843",
   "metadata": {},
   "outputs": [],
   "source": [
    "def get_transcription(mp3_file):\n",
    "    with open(mp3_file, \"rb\") as f:\n",
    "        audio_blob = io.BytesIO(f.read())  # Use BytesIO to create a file-like object\n",
    "    \n",
    "    output = client.run(\n",
    "        \"vaibhavs10/incredibly-fast-whisper:3ab86df6c8f54c11309d4d1f930ac292bad43ace52d10c80d87eb258b3c9f79c\",\n",
    "        input={\n",
    "            \"task\": \"transcribe\",\n",
    "            \"audio\": audio_blob,\n",
    "            \"language\": \"None\",\n",
    "            \"timestamp\": \"chunk\",\n",
    "            \"batch_size\": 64,\n",
    "            \"diarise_audio\": False\n",
    "        }\n",
    "    )\n",
    "\n",
    "    return output"
   ]
  },
  {
   "cell_type": "code",
   "execution_count": 19,
   "id": "04c255ae-39aa-457e-9058-43b028087449",
   "metadata": {},
   "outputs": [],
   "source": [
    "files = [\n",
    "'audio/files/episode_0_sample.mp3',\n",
    "'audio/files/episode_1_sample.mp3',\n",
    "'audio/files/episode_2_sample.mp3',\n",
    "'audio/files/episode_3_sample.mp3',\n",
    "'audio/files/episode_5_sample.mp3',\n",
    "'audio/files/episode_8_sample.mp3',\n",
    "'audio/files/episode_4_sample.mp3',\n",
    "'audio/files/episode_6_sample.mp3',\n",
    "'audio/files/episode_7_sample.mp3',\n",
    "'audio/files/episode_9_sample.mp3',\n",
    "]"
   ]
  },
  {
   "cell_type": "code",
   "execution_count": 20,
   "id": "0f6e14d9-566d-4182-aab7-7bec9fafd811",
   "metadata": {},
   "outputs": [
    {
     "name": "stdout",
     "output_type": "stream",
     "text": [
      "Data saved to transcription_data.json\n"
     ]
    }
   ],
   "source": [
    "data = [get_transcription(file) for file in files]\n",
    "\n",
    "file_path = 'transcription_data.json'\n",
    "\n",
    "# Save the list of dictionaries to a JSON file\n",
    "with open(file_path, 'w') as file:\n",
    "    json.dump(data, file, indent=4)\n",
    "\n",
    "print(f\"Data saved to {file_path}\")"
   ]
  },
  {
   "cell_type": "code",
   "execution_count": 9,
   "id": "6feabfc1-ba7b-408e-80fb-3fc600e59dac",
   "metadata": {},
   "outputs": [],
   "source": []
  },
  {
   "cell_type": "code",
   "execution_count": null,
   "id": "f87f203f-a1c9-4908-a771-85fbbf9693fb",
   "metadata": {},
   "outputs": [],
   "source": []
  }
 ],
 "metadata": {
  "kernelspec": {
   "display_name": "Python 3 (ipykernel)",
   "language": "python",
   "name": "python3"
  },
  "language_info": {
   "codemirror_mode": {
    "name": "ipython",
    "version": 3
   },
   "file_extension": ".py",
   "mimetype": "text/x-python",
   "name": "python",
   "nbconvert_exporter": "python",
   "pygments_lexer": "ipython3",
   "version": "3.10.12"
  }
 },
 "nbformat": 4,
 "nbformat_minor": 5
}

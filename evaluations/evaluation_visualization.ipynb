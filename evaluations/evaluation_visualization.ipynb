{
 "cells": [
  {
   "cell_type": "code",
   "execution_count": 1,
   "id": "414b04cc-0b12-4147-9f32-8ec2af87a10d",
   "metadata": {},
   "outputs": [
    {
     "name": "stdout",
     "output_type": "stream",
     "text": [
      "Requirement already satisfied: altair in ./.venv/lib/python3.10/site-packages (5.4.1)\n",
      "Requirement already satisfied: jinja2 in ./.venv/lib/python3.10/site-packages (from altair) (3.1.4)\n",
      "Requirement already satisfied: packaging in ./.venv/lib/python3.10/site-packages (from altair) (24.1)\n",
      "Requirement already satisfied: jsonschema>=3.0 in ./.venv/lib/python3.10/site-packages (from altair) (4.23.0)\n",
      "Requirement already satisfied: narwhals>=1.5.2 in ./.venv/lib/python3.10/site-packages (from altair) (1.8.2)\n",
      "Requirement already satisfied: typing-extensions>=4.10.0 in ./.venv/lib/python3.10/site-packages (from altair) (4.12.2)\n",
      "Requirement already satisfied: rpds-py>=0.7.1 in ./.venv/lib/python3.10/site-packages (from jsonschema>=3.0->altair) (0.20.0)\n",
      "Requirement already satisfied: jsonschema-specifications>=2023.03.6 in ./.venv/lib/python3.10/site-packages (from jsonschema>=3.0->altair) (2023.12.1)\n",
      "Requirement already satisfied: referencing>=0.28.4 in ./.venv/lib/python3.10/site-packages (from jsonschema>=3.0->altair) (0.35.1)\n",
      "Requirement already satisfied: attrs>=22.2.0 in ./.venv/lib/python3.10/site-packages (from jsonschema>=3.0->altair) (24.2.0)\n",
      "Requirement already satisfied: MarkupSafe>=2.0 in ./.venv/lib/python3.10/site-packages (from jinja2->altair) (2.1.5)\n"
     ]
    }
   ],
   "source": [
    "!pip install altair"
   ]
  },
  {
   "cell_type": "code",
   "execution_count": 2,
   "id": "7359026f-dcdd-4c97-afdc-cdbcc7a14a25",
   "metadata": {},
   "outputs": [],
   "source": [
    "import altair as alt\n",
    "import pandas as pd\n",
    "\n",
    "data = [\n",
    "{'retrieval_method': 'Minsearch', 'hit_rate': 0.7515828677839851, 'mrr': 0.5692242322130585},\n",
    "{'retrieval_method': 'Elastcisearch', 'hit_rate': 0.7456238361266294, 'mrr': 0.6092489137181873},\n",
    "{'retrieval_method': 'ChromDB', 'hit_rate': 0.7080074487895717, 'mrr': 0.2965114835505973}    \n",
    "]\n",
    "\n",
    "df = pd.DataFrame(data)"
   ]
  },
  {
   "cell_type": "code",
   "execution_count": 3,
   "id": "9ae28bd0-bb41-4f60-9260-1467ab481632",
   "metadata": {},
   "outputs": [
    {
     "data": {
      "text/html": [
       "\n",
       "<style>\n",
       "  #altair-viz-bedc66f4e08947fc923c15eeecd1f291.vega-embed {\n",
       "    width: 100%;\n",
       "    display: flex;\n",
       "  }\n",
       "\n",
       "  #altair-viz-bedc66f4e08947fc923c15eeecd1f291.vega-embed details,\n",
       "  #altair-viz-bedc66f4e08947fc923c15eeecd1f291.vega-embed details summary {\n",
       "    position: relative;\n",
       "  }\n",
       "</style>\n",
       "<div id=\"altair-viz-bedc66f4e08947fc923c15eeecd1f291\"></div>\n",
       "<script type=\"text/javascript\">\n",
       "  var VEGA_DEBUG = (typeof VEGA_DEBUG == \"undefined\") ? {} : VEGA_DEBUG;\n",
       "  (function(spec, embedOpt){\n",
       "    let outputDiv = document.currentScript.previousElementSibling;\n",
       "    if (outputDiv.id !== \"altair-viz-bedc66f4e08947fc923c15eeecd1f291\") {\n",
       "      outputDiv = document.getElementById(\"altair-viz-bedc66f4e08947fc923c15eeecd1f291\");\n",
       "    }\n",
       "    const paths = {\n",
       "      \"vega\": \"https://cdn.jsdelivr.net/npm/vega@5?noext\",\n",
       "      \"vega-lib\": \"https://cdn.jsdelivr.net/npm/vega-lib?noext\",\n",
       "      \"vega-lite\": \"https://cdn.jsdelivr.net/npm/vega-lite@5.20.1?noext\",\n",
       "      \"vega-embed\": \"https://cdn.jsdelivr.net/npm/vega-embed@6?noext\",\n",
       "    };\n",
       "\n",
       "    function maybeLoadScript(lib, version) {\n",
       "      var key = `${lib.replace(\"-\", \"\")}_version`;\n",
       "      return (VEGA_DEBUG[key] == version) ?\n",
       "        Promise.resolve(paths[lib]) :\n",
       "        new Promise(function(resolve, reject) {\n",
       "          var s = document.createElement('script');\n",
       "          document.getElementsByTagName(\"head\")[0].appendChild(s);\n",
       "          s.async = true;\n",
       "          s.onload = () => {\n",
       "            VEGA_DEBUG[key] = version;\n",
       "            return resolve(paths[lib]);\n",
       "          };\n",
       "          s.onerror = () => reject(`Error loading script: ${paths[lib]}`);\n",
       "          s.src = paths[lib];\n",
       "        });\n",
       "    }\n",
       "\n",
       "    function showError(err) {\n",
       "      outputDiv.innerHTML = `<div class=\"error\" style=\"color:red;\">${err}</div>`;\n",
       "      throw err;\n",
       "    }\n",
       "\n",
       "    function displayChart(vegaEmbed) {\n",
       "      vegaEmbed(outputDiv, spec, embedOpt)\n",
       "        .catch(err => showError(`Javascript Error: ${err.message}<br>This usually means there's a typo in your chart specification. See the javascript console for the full traceback.`));\n",
       "    }\n",
       "\n",
       "    if(typeof define === \"function\" && define.amd) {\n",
       "      requirejs.config({paths});\n",
       "      require([\"vega-embed\"], displayChart, err => showError(`Error loading script: ${err.message}`));\n",
       "    } else {\n",
       "      maybeLoadScript(\"vega\", \"5\")\n",
       "        .then(() => maybeLoadScript(\"vega-lite\", \"5.20.1\"))\n",
       "        .then(() => maybeLoadScript(\"vega-embed\", \"6\"))\n",
       "        .catch(showError)\n",
       "        .then(() => displayChart(vegaEmbed));\n",
       "    }\n",
       "  })({\"config\": {\"view\": {\"continuousWidth\": 300, \"continuousHeight\": 300}}, \"vconcat\": [{\"mark\": {\"type\": \"bar\"}, \"encoding\": {\"color\": {\"field\": \"retrieval_method\", \"type\": \"nominal\"}, \"x\": {\"field\": \"retrieval_method\", \"title\": \"Retrieval Method\", \"type\": \"nominal\"}, \"y\": {\"field\": \"hit_rate\", \"title\": \"Hit Rate\", \"type\": \"quantitative\"}}, \"title\": \"Hit Rate Comparison\"}, {\"mark\": {\"type\": \"bar\"}, \"encoding\": {\"color\": {\"field\": \"retrieval_method\", \"type\": \"nominal\"}, \"x\": {\"field\": \"retrieval_method\", \"title\": \"Retrieval Method\", \"type\": \"nominal\"}, \"y\": {\"field\": \"mrr\", \"title\": \"MRR\", \"type\": \"quantitative\"}}, \"title\": \"MRR Comparison\"}], \"data\": {\"name\": \"data-e89c44c9c1a19a225e114fe637a9b282\"}, \"$schema\": \"https://vega.github.io/schema/vega-lite/v5.20.1.json\", \"datasets\": {\"data-e89c44c9c1a19a225e114fe637a9b282\": [{\"retrieval_method\": \"Minsearch\", \"hit_rate\": 0.7515828677839851, \"mrr\": 0.5692242322130585}, {\"retrieval_method\": \"Elastcisearch\", \"hit_rate\": 0.7456238361266294, \"mrr\": 0.6092489137181873}, {\"retrieval_method\": \"ChromDB\", \"hit_rate\": 0.7080074487895717, \"mrr\": 0.2965114835505973}]}}, {\"mode\": \"vega-lite\"});\n",
       "</script>"
      ],
      "text/plain": [
       "alt.VConcatChart(...)"
      ]
     },
     "metadata": {},
     "output_type": "display_data"
    }
   ],
   "source": [
    "# Create bar charts for hit_rate and mrr\n",
    "hit_rate_chart = alt.Chart(df).mark_bar().encode(\n",
    "    x=alt.X('retrieval_method:N', title='Retrieval Method'),\n",
    "    y=alt.Y('hit_rate:Q', title='Hit Rate'),\n",
    "    color='retrieval_method:N'\n",
    ").properties(\n",
    "    title='Hit Rate Comparison'\n",
    ")\n",
    "\n",
    "mrr_chart = alt.Chart(df).mark_bar().encode(\n",
    "    x=alt.X('retrieval_method:N', title='Retrieval Method'),\n",
    "    y=alt.Y('mrr:Q', title='MRR'),\n",
    "    color='retrieval_method:N'\n",
    ").properties(\n",
    "    title='MRR Comparison'\n",
    ")\n",
    "\n",
    "# Display the charts in Jupyter Notebook\n",
    "(hit_rate_chart & mrr_chart).display()"
   ]
  },
  {
   "cell_type": "code",
   "execution_count": null,
   "id": "7d6bb33d-54ad-4a89-ba73-ededd17d482c",
   "metadata": {},
   "outputs": [],
   "source": []
  }
 ],
 "metadata": {
  "kernelspec": {
   "display_name": "Python 3 (ipykernel)",
   "language": "python",
   "name": "python3"
  },
  "language_info": {
   "codemirror_mode": {
    "name": "ipython",
    "version": 3
   },
   "file_extension": ".py",
   "mimetype": "text/x-python",
   "name": "python",
   "nbconvert_exporter": "python",
   "pygments_lexer": "ipython3",
   "version": "3.10.12"
  }
 },
 "nbformat": 4,
 "nbformat_minor": 5
}
